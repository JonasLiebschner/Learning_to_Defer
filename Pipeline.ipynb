{
 "cells": [
  {
   "cell_type": "code",
   "execution_count": 1,
   "id": "f69a4d2c-e2f2-4a70-a434-5a994964bbbe",
   "metadata": {},
   "outputs": [
    {
     "name": "stderr",
     "output_type": "stream",
     "text": [
      "/home/joli/joli-env/lib/python3.9/site-packages/torchvision/io/image.py:13: UserWarning: Failed to load image Python extension: /home/joli/joli-env/lib/python3.9/site-packages/torchvision/image.so: undefined symbol: _ZN5torch3jit17parseSchemaOrNameERKNSt7__cxx1112basic_stringIcSt11char_traitsIcESaIcEEE\n",
      "  warn(f\"Failed to load image Python extension: {e}\")\n"
     ]
    }
   ],
   "source": [
    "import neptune\n",
    "\n",
    "import json\n",
    "\n",
    "import NIH.hemmer_functions as nhf"
   ]
  },
  {
   "cell_type": "code",
   "execution_count": 2,
   "id": "49438da1-76ef-40bc-87fd-282b0d18e33b",
   "metadata": {},
   "outputs": [],
   "source": [
    "import os\n",
    "import random\n",
    "from itertools import chain\n",
    "from typing import Any, Tuple\n",
    "import numpy as np\n",
    "import pandas as pd\n",
    "import torch\n",
    "import torch.nn as nn\n",
    "from torch.utils.data.dataset import Dataset\n",
    "import torchvision\n",
    "from torchvision import transforms\n",
    "from PIL import Image\n",
    "from sklearn.metrics import accuracy_score\n",
    "from sklearn.model_selection import StratifiedKFold\n",
    "from tqdm import tqdm\n",
    "from tabulate import tabulate\n",
    "\n",
    "device = torch.device(\"cuda:0\" if torch.cuda.is_available() else \"cpu\")"
   ]
  },
  {
   "cell_type": "code",
   "execution_count": 3,
   "id": "ae79c185-0174-46ae-9c89-2a570039374d",
   "metadata": {},
   "outputs": [],
   "source": [
    "with open('neptune_config.json', 'r') as f:\n",
    "    config = json.load(f)"
   ]
  },
  {
   "cell_type": "code",
   "execution_count": 4,
   "id": "4573f516-a578-4d94-9cf2-a14d0042b167",
   "metadata": {},
   "outputs": [
    {
     "name": "stderr",
     "output_type": "stream",
     "text": [
      "/tmp/ipykernel_1628154/3162831735.py:2: NeptuneWarning: To avoid unintended consumption of logging hours during interactive sessions, the following monitoring options are disabled unless set to 'True' when initializing the run: 'capture_stdout', 'capture_stderr', and 'capture_hardware_metrics'.\n",
      "  run = neptune.init_run(\n"
     ]
    },
    {
     "name": "stdout",
     "output_type": "stream",
     "text": [
      "https://app.neptune.ai/jonasl/masterarbeit/e/MAS-51\n"
     ]
    }
   ],
   "source": [
    "config_neptune = config[\"neptune\"]\n",
    "run = neptune.init_run(\n",
    "    project=config_neptune[\"project\"],\n",
    "    api_token=config_neptune[\"api_token\"],\n",
    ")"
   ]
  },
  {
   "cell_type": "code",
   "execution_count": 5,
   "id": "926e05e9-3f13-4c53-be9f-8d8f794770df",
   "metadata": {},
   "outputs": [
    {
     "name": "stdout",
     "output_type": "stream",
     "text": [
      "{'NUM_CLASSES': 2, 'DROPOUT': 0.0, 'NUM_HIDDEN_UNITS': 30, 'LR': 0.005, 'USE_LR_SCHEDULER': False, 'TRAIN_BATCH_SIZE': 64, 'TEST_BATCH_SIZE': 64, 'EPOCHS': 20, 'NUM_EXPERTS': 2, 'K': 10, 'TARGET': 'Airspace_Opacity', 'LABELER_IDS': [4323195249, 4295232296]}\n"
     ]
    },
    {
     "name": "stderr",
     "output_type": "stream",
     "text": [
      "/tmp/ipykernel_1628154/1392722371.py:23: NeptuneUnsupportedType: You're attempting to log a type that is not directly supported by Neptune (<class 'list'>).\n",
      "        Convert the value to a supported type, such as a string or float, or use stringify_unsupported(obj)\n",
      "        for dictionaries or collections that contain unsupported values.\n",
      "        For more, see https://docs.neptune.ai/help/value_of_unsupported_type\n",
      "  run[\"parameters\"] = params\n"
     ]
    }
   ],
   "source": [
    "#params = config[\"params\"]\n",
    "\n",
    "params = {\n",
    "    \"NUM_CLASSES\": 2,\n",
    "    \"DROPOUT\": 0.00,\n",
    "    \"NUM_HIDDEN_UNITS\": 30,\n",
    "    \"LR\": 5e-3,\n",
    "    \"USE_LR_SCHEDULER\": False,\n",
    "    \"TRAIN_BATCH_SIZE\": 64,\n",
    "    \"TEST_BATCH_SIZE\": 64,\n",
    "    \"EPOCHS\": 20,\n",
    "    \"NUM_EXPERTS\": 2,\n",
    "    \"K\": 10,\n",
    "    \"TARGET\": \"Airspace_Opacity\",\n",
    "    \"LABELER_IDS\": [4323195249, 4295232296]\n",
    "}\n",
    "\n",
    "#choose radiologist_pair (last three digits are the IDS used in the paper)\n",
    "#LABELER_IDS = [4295342357, 4295349121]\n",
    "#LABELER_IDS = [4323195249, 4295194124]\n",
    "#LABELER_IDS = [4295342357, 4295354117]\n",
    "\n",
    "run[\"parameters\"] = params\n",
    "\n",
    "print(params)"
   ]
  },
  {
   "cell_type": "code",
   "execution_count": 6,
   "id": "951fcf0e-8572-4b16-96fa-d3287da2e62b",
   "metadata": {},
   "outputs": [],
   "source": [
    "PATH = \"../Datasets/NIH/\"\n",
    "PATH_Labels = PATH\n",
    "PATH_Images = PATH\n",
    "params[\"PATH\"] = PATH"
   ]
  },
  {
   "cell_type": "code",
   "execution_count": 7,
   "id": "9d24c7cb-d217-4b29-99bd-d401415b2ad6",
   "metadata": {},
   "outputs": [],
   "source": [
    "run[\"Expert Model\"] = \"new perfect\""
   ]
  },
  {
   "cell_type": "code",
   "execution_count": 8,
   "id": "7e9b8793-4991-4f2f-b307-c5dd8d796894",
   "metadata": {},
   "outputs": [],
   "source": [
    "class NihExpert:\n",
    "    \"\"\"A class used to represent an Expert on NIH ChestX-ray data.\n",
    "\n",
    "    Parameters\n",
    "    ----------\n",
    "    labeler_id : int\n",
    "        the Reader ID to specify which radiologist the expert object represents\n",
    "    target : str\n",
    "        the target to make predictions for\n",
    "\n",
    "    Attributes\n",
    "    ----------\n",
    "    labeler_id : int\n",
    "        the Reader ID to specify which radiologist the expert object represents\n",
    "    target : str\n",
    "        the target to make predictions for\n",
    "    image_id_to_prediction : dict of {int : str}\n",
    "        a dictionary that maps the image id to the prediction the radiologist made for the specified target\n",
    "\n",
    "    Methods\n",
    "    -------\n",
    "    predict(image_ids)\n",
    "        makes a prediction for the given image ids\n",
    "    \"\"\"\n",
    "\n",
    "    def __init__(self, labeler_id: int, target: str, PATH, numLabels=800, prob=0.5):\n",
    "        self.labelerId = labeler_id\n",
    "        self.target = target\n",
    "        self.maxLabels = numLabels\n",
    "        self.prob = prob\n",
    "        \n",
    "        self.resetPredictionCount()\n",
    "\n",
    "        individual_labels = pd.read_csv(PATH + \"labels.csv\")\n",
    "\n",
    "        expert_labels = individual_labels[individual_labels[\"Reader ID\"] == self.labelerId][\n",
    "            [\"Image ID\", self.target + \"_Expert_Label\", self.target + \"_GT_Label\"]]\n",
    "        expert_labels = expert_labels.fillna(0)\n",
    "\n",
    "        self.image_id_to_prediction = pd.Series(expert_labels[self.target + \"_Expert_Label\"].values,\n",
    "                                                index=expert_labels[\"Image ID\"]).to_dict()\n",
    "\n",
    "    def predict(self, image_ids):\n",
    "        \"\"\"Returns the experts predictions for the given image ids. Works only for image ids that are labeled by the expert\n",
    "\n",
    "        Parameters\n",
    "        ----------\n",
    "        image_ids : list of int\n",
    "            the image ids to get the radiologists predictions for\n",
    "\n",
    "        Returns\n",
    "        -------\n",
    "        list of int\n",
    "            returns a list of 0 or 1 that represent the radiologists prediction for the specified target\n",
    "        \"\"\"\n",
    "        return [self.image_id_to_prediction[image_id] for image_id in image_ids]\n",
    "\n",
    "    def predict_unlabeled_data(self, image_ids):\n",
    "        \"\"\"Returns the experts predictions for the given image ids. Works for all image ids, returns -1 if not labeled by expert\n",
    "\n",
    "        Parameters\n",
    "        ----------\n",
    "        image_ids : list of int\n",
    "            the image ids to get the radiologists predictions for\n",
    "\n",
    "        Returns\n",
    "        -------\n",
    "        list of int\n",
    "            returns a list of 0 or 1 that represent the radiologists prediction for the specified target, or -1 if no prediction\n",
    "        \"\"\"\n",
    "        return [self.image_id_to_prediction[image_id] if image_id in self.image_id_to_prediction else -1 for image_id in image_ids]\n",
    "    \n",
    "    def predictNew(self, image_ids):\n",
    "        \"\"\"\n",
    "        Returns the expert prediction for the first n predictions\n",
    "        For every other prediction is predicts with the probability (random guessing)\n",
    "        \"\"\"\n",
    "        length = len(image_ids)\n",
    "        if (self.predictions + length) <= self.maxLabels:\n",
    "            self.predictions += length\n",
    "            return [self.image_id_to_prediction[image_id] for image_id in image_ids]\n",
    "        else:\n",
    "            temp_predictions = [self.image_id_to_prediction[image_id] for image_id in image_ids[:(self.maxLabels - self.predictions)]]\n",
    "            self.predictions = self.maxLabels\n",
    "            for image_id in image_ids[(self.maxLabels - self.predictions):]:\n",
    "                if np.random.uniform(0,1) > self.prob:\n",
    "                    temp_predictions.append(self.image_id_to_prediction[image_id])\n",
    "                else:\n",
    "                    temp_predictions.append(np.random.randint(2, size=1))\n",
    "    \n",
    "    def resetPredictionCount(self):\n",
    "        self.predictions = 0\n",
    "\n",
    "class NihAverageExpert:\n",
    "    def __init__(self, expert_fns=[]):\n",
    "        self.expert_fns = expert_fns\n",
    "        self.num_experts = len(self.expert_fns)\n",
    "\n",
    "    def predict(self, filenames):\n",
    "        all_experts_predictions = [expert_fn(filenames) for expert_fn in self.expert_fns]\n",
    "        predictions = [None] * len(filenames)\n",
    "\n",
    "        for idx, expert_predictions in enumerate(all_experts_predictions):\n",
    "            predictions[idx::self.num_experts] = expert_predictions[idx::self.num_experts]\n",
    "\n",
    "        return predictions"
   ]
  },
  {
   "cell_type": "code",
   "execution_count": 9,
   "id": "f33a3b75-cede-4e36-ae57-f11ea815c437",
   "metadata": {},
   "outputs": [],
   "source": [
    "def set_seed(seed):\n",
    "    random.seed(seed)\n",
    "    np.random.seed(seed)\n",
    "    torch.manual_seed(seed)\n",
    "    if torch.cuda.is_available():\n",
    "        torch.cuda.manual_seed(seed)\n",
    "        torch.cuda.manual_seed_all(seed)"
   ]
  },
  {
   "cell_type": "code",
   "execution_count": 10,
   "id": "9de46bf7-5eb8-4f38-b6db-e89c353020e6",
   "metadata": {
    "tags": []
   },
   "outputs": [
    {
     "name": "stdout",
     "output_type": "stream",
     "text": [
      "Seed: 0\n",
      "----------------------------------------\n"
     ]
    },
    {
     "name": "stderr",
     "output_type": "stream",
     "text": [
      "/home/joli/joli-env/lib/python3.9/site-packages/sklearn/model_selection/_split.py:700: UserWarning: The least populated class in y has only 1 members, which is less than n_splits=10.\n",
      "  warnings.warn(\n"
     ]
    },
    {
     "name": "stdout",
     "output_type": "stream",
     "text": [
      "Loaded set number 0\n",
      "Loaded set number 1\n",
      "Loaded set number 2\n",
      "Loaded set number 3\n",
      "Loaded set number 4\n",
      "Loaded set number 5\n",
      "Loaded set number 6\n",
      "Loaded set number 7\n",
      "Loaded set number 8\n",
      "Loaded set number 9\n",
      "Running fold 1 out of 10\n",
      "Running fold 2 out of 10\n",
      "Running fold 3 out of 10\n",
      "Running fold 4 out of 10\n",
      "Running fold 5 out of 10\n",
      "Running fold 6 out of 10\n",
      "Running fold 7 out of 10\n",
      "Running fold 8 out of 10\n",
      "Running fold 9 out of 10\n",
      "Running fold 10 out of 10\n",
      "Best Expert Accuracy: 0.9131455399061033\n",
      "\n",
      "Running fold 1 out of 10\n",
      "Running fold 2 out of 10\n",
      "Running fold 3 out of 10\n",
      "Running fold 4 out of 10\n",
      "Running fold 5 out of 10\n",
      "Running fold 6 out of 10\n",
      "Running fold 7 out of 10\n",
      "Running fold 8 out of 10\n",
      "Running fold 9 out of 10\n",
      "Running fold 10 out of 10\n"
     ]
    },
    {
     "name": "stderr",
     "output_type": "stream",
     "text": [
      "/home/joli/joli-env/lib/python3.9/site-packages/torchvision/models/_utils.py:208: UserWarning: The parameter 'pretrained' is deprecated since 0.13 and will be removed in 0.15, please use 'weights' instead.\n",
      "  warnings.warn(\n",
      "/home/joli/joli-env/lib/python3.9/site-packages/torchvision/models/_utils.py:223: UserWarning: Arguments other than a weight enum or `None` for 'weights' are deprecated since 0.13 and will be removed in 0.15. The current behavior is equivalent to passing `weights=ResNet18_Weights.IMAGENET1K_V1`. You can also use `weights=ResNet18_Weights.DEFAULT` to get the most up-to-date weights.\n",
      "  warnings.warn(msg)\n"
     ]
    },
    {
     "name": "stdout",
     "output_type": "stream",
     "text": [
      "Average Expert Accuracy: 0.8615023474178404\n",
      "\n",
      "Team Performance Optimization with Our Approach\n",
      "load Resnet-18 pretrained on ImageNet\n",
      "Running fold 1 out of 10\n"
     ]
    },
    {
     "name": "stderr",
     "output_type": "stream",
     "text": [
      "100%|████████████████████████████████████████████████████████████████████████████████████████████████████████████████████████████████████████████████████████| 20/20 [00:11<00:00,  1.78it/s]\n"
     ]
    },
    {
     "name": "stdout",
     "output_type": "stream",
     "text": [
      "Running fold 2 out of 10\n"
     ]
    },
    {
     "name": "stderr",
     "output_type": "stream",
     "text": [
      "100%|████████████████████████████████████████████████████████████████████████████████████████████████████████████████████████████████████████████████████████| 20/20 [00:09<00:00,  2.02it/s]\n"
     ]
    },
    {
     "name": "stdout",
     "output_type": "stream",
     "text": [
      "Running fold 3 out of 10\n"
     ]
    },
    {
     "name": "stderr",
     "output_type": "stream",
     "text": [
      "100%|████████████████████████████████████████████████████████████████████████████████████████████████████████████████████████████████████████████████████████| 20/20 [00:09<00:00,  2.08it/s]\n"
     ]
    },
    {
     "name": "stdout",
     "output_type": "stream",
     "text": [
      "Running fold 4 out of 10\n"
     ]
    },
    {
     "name": "stderr",
     "output_type": "stream",
     "text": [
      "100%|████████████████████████████████████████████████████████████████████████████████████████████████████████████████████████████████████████████████████████| 20/20 [00:09<00:00,  2.12it/s]\n"
     ]
    },
    {
     "name": "stdout",
     "output_type": "stream",
     "text": [
      "Running fold 5 out of 10\n"
     ]
    },
    {
     "name": "stderr",
     "output_type": "stream",
     "text": [
      "100%|████████████████████████████████████████████████████████████████████████████████████████████████████████████████████████████████████████████████████████| 20/20 [00:09<00:00,  2.15it/s]\n"
     ]
    },
    {
     "name": "stdout",
     "output_type": "stream",
     "text": [
      "Running fold 6 out of 10\n"
     ]
    },
    {
     "name": "stderr",
     "output_type": "stream",
     "text": [
      "100%|████████████████████████████████████████████████████████████████████████████████████████████████████████████████████████████████████████████████████████| 20/20 [00:09<00:00,  2.05it/s]\n"
     ]
    },
    {
     "name": "stdout",
     "output_type": "stream",
     "text": [
      "Running fold 7 out of 10\n"
     ]
    },
    {
     "name": "stderr",
     "output_type": "stream",
     "text": [
      "100%|████████████████████████████████████████████████████████████████████████████████████████████████████████████████████████████████████████████████████████| 20/20 [00:09<00:00,  2.04it/s]\n"
     ]
    },
    {
     "name": "stdout",
     "output_type": "stream",
     "text": [
      "Running fold 8 out of 10\n"
     ]
    },
    {
     "name": "stderr",
     "output_type": "stream",
     "text": [
      "100%|████████████████████████████████████████████████████████████████████████████████████████████████████████████████████████████████████████████████████████| 20/20 [00:09<00:00,  2.01it/s]\n"
     ]
    },
    {
     "name": "stdout",
     "output_type": "stream",
     "text": [
      "Running fold 9 out of 10\n"
     ]
    },
    {
     "name": "stderr",
     "output_type": "stream",
     "text": [
      "100%|████████████████████████████████████████████████████████████████████████████████████████████████████████████████████████████████████████████████████████| 20/20 [00:10<00:00,  1.94it/s]\n"
     ]
    },
    {
     "name": "stdout",
     "output_type": "stream",
     "text": [
      "Running fold 10 out of 10\n"
     ]
    },
    {
     "name": "stderr",
     "output_type": "stream",
     "text": [
      "100%|████████████████████████████████████████████████████████████████████████████████████████████████████████████████████████████████████████████████████████| 20/20 [00:09<00:00,  2.02it/s]\n",
      "/home/joli/joli-env/lib/python3.9/site-packages/torchvision/models/_utils.py:208: UserWarning: The parameter 'pretrained' is deprecated since 0.13 and will be removed in 0.15, please use 'weights' instead.\n",
      "  warnings.warn(\n",
      "/home/joli/joli-env/lib/python3.9/site-packages/torchvision/models/_utils.py:223: UserWarning: Arguments other than a weight enum or `None` for 'weights' are deprecated since 0.13 and will be removed in 0.15. The current behavior is equivalent to passing `weights=ResNet18_Weights.IMAGENET1K_V1`. You can also use `weights=ResNet18_Weights.DEFAULT` to get the most up-to-date weights.\n",
      "  warnings.warn(msg)\n"
     ]
    },
    {
     "name": "stdout",
     "output_type": "stream",
     "text": [
      "Team Performance Optimization with Joint Sparse Framework\n",
      "load Resnet-18 pretrained on ImageNet\n",
      "Running fold 1 out of 10\n"
     ]
    },
    {
     "name": "stderr",
     "output_type": "stream",
     "text": [
      "100%|████████████████████████████████████████████████████████████████████████████████████████████████████████████████████████████████████████████████████████| 20/20 [00:10<00:00,  2.00it/s]\n"
     ]
    },
    {
     "name": "stdout",
     "output_type": "stream",
     "text": [
      "Running fold 2 out of 10\n"
     ]
    },
    {
     "name": "stderr",
     "output_type": "stream",
     "text": [
      "100%|████████████████████████████████████████████████████████████████████████████████████████████████████████████████████████████████████████████████████████| 20/20 [00:09<00:00,  2.02it/s]\n"
     ]
    },
    {
     "name": "stdout",
     "output_type": "stream",
     "text": [
      "Running fold 3 out of 10\n"
     ]
    },
    {
     "name": "stderr",
     "output_type": "stream",
     "text": [
      "100%|████████████████████████████████████████████████████████████████████████████████████████████████████████████████████████████████████████████████████████| 20/20 [00:09<00:00,  2.06it/s]\n"
     ]
    },
    {
     "name": "stdout",
     "output_type": "stream",
     "text": [
      "Running fold 4 out of 10\n"
     ]
    },
    {
     "name": "stderr",
     "output_type": "stream",
     "text": [
      "100%|████████████████████████████████████████████████████████████████████████████████████████████████████████████████████████████████████████████████████████| 20/20 [00:09<00:00,  2.10it/s]\n"
     ]
    },
    {
     "name": "stdout",
     "output_type": "stream",
     "text": [
      "Running fold 5 out of 10\n"
     ]
    },
    {
     "name": "stderr",
     "output_type": "stream",
     "text": [
      "100%|████████████████████████████████████████████████████████████████████████████████████████████████████████████████████████████████████████████████████████| 20/20 [00:09<00:00,  2.11it/s]\n"
     ]
    },
    {
     "name": "stdout",
     "output_type": "stream",
     "text": [
      "Running fold 6 out of 10\n"
     ]
    },
    {
     "name": "stderr",
     "output_type": "stream",
     "text": [
      "100%|████████████████████████████████████████████████████████████████████████████████████████████████████████████████████████████████████████████████████████| 20/20 [00:09<00:00,  2.01it/s]\n"
     ]
    },
    {
     "name": "stdout",
     "output_type": "stream",
     "text": [
      "Running fold 7 out of 10\n"
     ]
    },
    {
     "name": "stderr",
     "output_type": "stream",
     "text": [
      "100%|████████████████████████████████████████████████████████████████████████████████████████████████████████████████████████████████████████████████████████| 20/20 [00:09<00:00,  2.02it/s]\n"
     ]
    },
    {
     "name": "stdout",
     "output_type": "stream",
     "text": [
      "Running fold 8 out of 10\n"
     ]
    },
    {
     "name": "stderr",
     "output_type": "stream",
     "text": [
      "100%|████████████████████████████████████████████████████████████████████████████████████████████████████████████████████████████████████████████████████████| 20/20 [00:10<00:00,  1.98it/s]\n"
     ]
    },
    {
     "name": "stdout",
     "output_type": "stream",
     "text": [
      "Running fold 9 out of 10\n"
     ]
    },
    {
     "name": "stderr",
     "output_type": "stream",
     "text": [
      "100%|████████████████████████████████████████████████████████████████████████████████████████████████████████████████████████████████████████████████████████| 20/20 [00:09<00:00,  2.01it/s]\n"
     ]
    },
    {
     "name": "stdout",
     "output_type": "stream",
     "text": [
      "Running fold 10 out of 10\n"
     ]
    },
    {
     "name": "stderr",
     "output_type": "stream",
     "text": [
      "100%|████████████████████████████████████████████████████████████████████████████████████████████████████████████████████████████████████████████████████████| 20/20 [00:09<00:00,  2.04it/s]\n",
      "/home/joli/joli-env/lib/python3.9/site-packages/torchvision/models/_utils.py:208: UserWarning: The parameter 'pretrained' is deprecated since 0.13 and will be removed in 0.15, please use 'weights' instead.\n",
      "  warnings.warn(\n",
      "/home/joli/joli-env/lib/python3.9/site-packages/torchvision/models/_utils.py:223: UserWarning: Arguments other than a weight enum or `None` for 'weights' are deprecated since 0.13 and will be removed in 0.15. The current behavior is equivalent to passing `weights=ResNet18_Weights.IMAGENET1K_V1`. You can also use `weights=ResNet18_Weights.DEFAULT` to get the most up-to-date weights.\n",
      "  warnings.warn(msg)\n"
     ]
    },
    {
     "name": "stdout",
     "output_type": "stream",
     "text": [
      "Training full automation baseline\n",
      "load Resnet-18 pretrained on ImageNet\n",
      "Running fold 1 out of 10\n"
     ]
    },
    {
     "name": "stderr",
     "output_type": "stream",
     "text": [
      "100%|████████████████████████████████████████████████████████████████████████████████████████████████████████████████████████████████████████████████████████| 20/20 [00:05<00:00,  3.85it/s]\n"
     ]
    },
    {
     "name": "stdout",
     "output_type": "stream",
     "text": [
      "Running fold 2 out of 10\n"
     ]
    },
    {
     "name": "stderr",
     "output_type": "stream",
     "text": [
      "100%|████████████████████████████████████████████████████████████████████████████████████████████████████████████████████████████████████████████████████████| 20/20 [00:05<00:00,  3.93it/s]\n"
     ]
    },
    {
     "name": "stdout",
     "output_type": "stream",
     "text": [
      "Running fold 3 out of 10\n"
     ]
    },
    {
     "name": "stderr",
     "output_type": "stream",
     "text": [
      "100%|████████████████████████████████████████████████████████████████████████████████████████████████████████████████████████████████████████████████████████| 20/20 [00:04<00:00,  4.06it/s]\n"
     ]
    },
    {
     "name": "stdout",
     "output_type": "stream",
     "text": [
      "Running fold 4 out of 10\n"
     ]
    },
    {
     "name": "stderr",
     "output_type": "stream",
     "text": [
      "100%|████████████████████████████████████████████████████████████████████████████████████████████████████████████████████████████████████████████████████████| 20/20 [00:04<00:00,  4.14it/s]\n"
     ]
    },
    {
     "name": "stdout",
     "output_type": "stream",
     "text": [
      "Running fold 5 out of 10\n"
     ]
    },
    {
     "name": "stderr",
     "output_type": "stream",
     "text": [
      "100%|████████████████████████████████████████████████████████████████████████████████████████████████████████████████████████████████████████████████████████| 20/20 [00:04<00:00,  4.19it/s]\n"
     ]
    },
    {
     "name": "stdout",
     "output_type": "stream",
     "text": [
      "Running fold 6 out of 10\n"
     ]
    },
    {
     "name": "stderr",
     "output_type": "stream",
     "text": [
      "100%|████████████████████████████████████████████████████████████████████████████████████████████████████████████████████████████████████████████████████████| 20/20 [00:05<00:00,  3.95it/s]\n"
     ]
    },
    {
     "name": "stdout",
     "output_type": "stream",
     "text": [
      "Running fold 7 out of 10\n"
     ]
    },
    {
     "name": "stderr",
     "output_type": "stream",
     "text": [
      "100%|████████████████████████████████████████████████████████████████████████████████████████████████████████████████████████████████████████████████████████| 20/20 [00:05<00:00,  3.91it/s]\n"
     ]
    },
    {
     "name": "stdout",
     "output_type": "stream",
     "text": [
      "Running fold 8 out of 10\n"
     ]
    },
    {
     "name": "stderr",
     "output_type": "stream",
     "text": [
      "100%|████████████████████████████████████████████████████████████████████████████████████████████████████████████████████████████████████████████████████████| 20/20 [00:05<00:00,  3.83it/s]\n"
     ]
    },
    {
     "name": "stdout",
     "output_type": "stream",
     "text": [
      "Running fold 9 out of 10\n"
     ]
    },
    {
     "name": "stderr",
     "output_type": "stream",
     "text": [
      "100%|████████████████████████████████████████████████████████████████████████████████████████████████████████████████████████████████████████████████████████| 20/20 [00:05<00:00,  3.88it/s]\n"
     ]
    },
    {
     "name": "stdout",
     "output_type": "stream",
     "text": [
      "Running fold 10 out of 10\n"
     ]
    },
    {
     "name": "stderr",
     "output_type": "stream",
     "text": [
      "100%|████████████████████████████████████████████████████████████████████████████████████████████████████████████████████████████████████████████████████████| 20/20 [00:05<00:00,  3.93it/s]\n",
      "/home/joli/joli-env/lib/python3.9/site-packages/torchvision/models/_utils.py:208: UserWarning: The parameter 'pretrained' is deprecated since 0.13 and will be removed in 0.15, please use 'weights' instead.\n",
      "  warnings.warn(\n",
      "/home/joli/joli-env/lib/python3.9/site-packages/torchvision/models/_utils.py:223: UserWarning: Arguments other than a weight enum or `None` for 'weights' are deprecated since 0.13 and will be removed in 0.15. The current behavior is equivalent to passing `weights=ResNet18_Weights.IMAGENET1K_V1`. You can also use `weights=ResNet18_Weights.DEFAULT` to get the most up-to-date weights.\n",
      "  warnings.warn(msg)\n"
     ]
    },
    {
     "name": "stdout",
     "output_type": "stream",
     "text": [
      "Training Mixture of artificial experts baseline\n",
      "load Resnet-18 pretrained on ImageNet\n",
      "Running fold 1 out of 10\n"
     ]
    },
    {
     "name": "stderr",
     "output_type": "stream",
     "text": [
      "100%|████████████████████████████████████████████████████████████████████████████████████████████████████████████████████████████████████████████████████████| 20/20 [00:05<00:00,  3.78it/s]\n"
     ]
    },
    {
     "name": "stdout",
     "output_type": "stream",
     "text": [
      "Running fold 2 out of 10\n"
     ]
    },
    {
     "name": "stderr",
     "output_type": "stream",
     "text": [
      "100%|████████████████████████████████████████████████████████████████████████████████████████████████████████████████████████████████████████████████████████| 20/20 [00:05<00:00,  3.83it/s]\n"
     ]
    },
    {
     "name": "stdout",
     "output_type": "stream",
     "text": [
      "Running fold 3 out of 10\n"
     ]
    },
    {
     "name": "stderr",
     "output_type": "stream",
     "text": [
      "100%|████████████████████████████████████████████████████████████████████████████████████████████████████████████████████████████████████████████████████████| 20/20 [00:05<00:00,  3.98it/s]\n"
     ]
    },
    {
     "name": "stdout",
     "output_type": "stream",
     "text": [
      "Running fold 4 out of 10\n"
     ]
    },
    {
     "name": "stderr",
     "output_type": "stream",
     "text": [
      "100%|████████████████████████████████████████████████████████████████████████████████████████████████████████████████████████████████████████████████████████| 20/20 [00:04<00:00,  4.03it/s]\n"
     ]
    },
    {
     "name": "stdout",
     "output_type": "stream",
     "text": [
      "Running fold 5 out of 10\n"
     ]
    },
    {
     "name": "stderr",
     "output_type": "stream",
     "text": [
      "100%|████████████████████████████████████████████████████████████████████████████████████████████████████████████████████████████████████████████████████████| 20/20 [00:04<00:00,  4.10it/s]\n"
     ]
    },
    {
     "name": "stdout",
     "output_type": "stream",
     "text": [
      "Running fold 6 out of 10\n"
     ]
    },
    {
     "name": "stderr",
     "output_type": "stream",
     "text": [
      "100%|████████████████████████████████████████████████████████████████████████████████████████████████████████████████████████████████████████████████████████| 20/20 [00:05<00:00,  3.84it/s]\n"
     ]
    },
    {
     "name": "stdout",
     "output_type": "stream",
     "text": [
      "Running fold 7 out of 10\n"
     ]
    },
    {
     "name": "stderr",
     "output_type": "stream",
     "text": [
      "100%|████████████████████████████████████████████████████████████████████████████████████████████████████████████████████████████████████████████████████████| 20/20 [00:05<00:00,  3.81it/s]\n"
     ]
    },
    {
     "name": "stdout",
     "output_type": "stream",
     "text": [
      "Running fold 8 out of 10\n"
     ]
    },
    {
     "name": "stderr",
     "output_type": "stream",
     "text": [
      "100%|████████████████████████████████████████████████████████████████████████████████████████████████████████████████████████████████████████████████████████| 20/20 [00:05<00:00,  3.72it/s]\n"
     ]
    },
    {
     "name": "stdout",
     "output_type": "stream",
     "text": [
      "Running fold 9 out of 10\n"
     ]
    },
    {
     "name": "stderr",
     "output_type": "stream",
     "text": [
      "100%|████████████████████████████████████████████████████████████████████████████████████████████████████████████████████████████████████████████████████████| 20/20 [00:05<00:00,  3.78it/s]\n"
     ]
    },
    {
     "name": "stdout",
     "output_type": "stream",
     "text": [
      "Running fold 10 out of 10\n"
     ]
    },
    {
     "name": "stderr",
     "output_type": "stream",
     "text": [
      "100%|████████████████████████████████████████████████████████████████████████████████████████████████████████████████████████████████████████████████████████| 20/20 [00:05<00:00,  3.84it/s]\n",
      "/home/joli/joli-env/lib/python3.9/site-packages/torchvision/models/_utils.py:208: UserWarning: The parameter 'pretrained' is deprecated since 0.13 and will be removed in 0.15, please use 'weights' instead.\n",
      "  warnings.warn(\n",
      "/home/joli/joli-env/lib/python3.9/site-packages/torchvision/models/_utils.py:223: UserWarning: Arguments other than a weight enum or `None` for 'weights' are deprecated since 0.13 and will be removed in 0.15. The current behavior is equivalent to passing `weights=ResNet18_Weights.IMAGENET1K_V1`. You can also use `weights=ResNet18_Weights.DEFAULT` to get the most up-to-date weights.\n",
      "  warnings.warn(msg)\n"
     ]
    },
    {
     "name": "stdout",
     "output_type": "stream",
     "text": [
      "Mixture of Artificial Experts Accuracy: 0.4671361502347418\n",
      "\n",
      "Training Mixture of human experts baseline\n",
      "load Resnet-18 pretrained on ImageNet\n",
      "Running fold 1 out of 10\n"
     ]
    },
    {
     "name": "stderr",
     "output_type": "stream",
     "text": [
      "100%|████████████████████████████████████████████████████████████████████████████████████████████████████████████████████████████████████████████████████████| 20/20 [00:10<00:00,  1.99it/s]\n"
     ]
    },
    {
     "name": "stdout",
     "output_type": "stream",
     "text": [
      "Running fold 2 out of 10\n"
     ]
    },
    {
     "name": "stderr",
     "output_type": "stream",
     "text": [
      "100%|████████████████████████████████████████████████████████████████████████████████████████████████████████████████████████████████████████████████████████| 20/20 [00:09<00:00,  2.03it/s]\n"
     ]
    },
    {
     "name": "stdout",
     "output_type": "stream",
     "text": [
      "Running fold 3 out of 10\n"
     ]
    },
    {
     "name": "stderr",
     "output_type": "stream",
     "text": [
      "100%|████████████████████████████████████████████████████████████████████████████████████████████████████████████████████████████████████████████████████████| 20/20 [00:09<00:00,  2.06it/s]\n"
     ]
    },
    {
     "name": "stdout",
     "output_type": "stream",
     "text": [
      "Running fold 4 out of 10\n"
     ]
    },
    {
     "name": "stderr",
     "output_type": "stream",
     "text": [
      "100%|████████████████████████████████████████████████████████████████████████████████████████████████████████████████████████████████████████████████████████| 20/20 [00:09<00:00,  2.08it/s]\n"
     ]
    },
    {
     "name": "stdout",
     "output_type": "stream",
     "text": [
      "Running fold 5 out of 10\n"
     ]
    },
    {
     "name": "stderr",
     "output_type": "stream",
     "text": [
      "100%|████████████████████████████████████████████████████████████████████████████████████████████████████████████████████████████████████████████████████████| 20/20 [00:09<00:00,  2.16it/s]\n"
     ]
    },
    {
     "name": "stdout",
     "output_type": "stream",
     "text": [
      "Running fold 6 out of 10\n"
     ]
    },
    {
     "name": "stderr",
     "output_type": "stream",
     "text": [
      "100%|████████████████████████████████████████████████████████████████████████████████████████████████████████████████████████████████████████████████████████| 20/20 [00:09<00:00,  2.05it/s]\n"
     ]
    },
    {
     "name": "stdout",
     "output_type": "stream",
     "text": [
      "Running fold 7 out of 10\n"
     ]
    },
    {
     "name": "stderr",
     "output_type": "stream",
     "text": [
      "100%|████████████████████████████████████████████████████████████████████████████████████████████████████████████████████████████████████████████████████████| 20/20 [00:09<00:00,  2.04it/s]\n"
     ]
    },
    {
     "name": "stdout",
     "output_type": "stream",
     "text": [
      "Running fold 8 out of 10\n"
     ]
    },
    {
     "name": "stderr",
     "output_type": "stream",
     "text": [
      "100%|████████████████████████████████████████████████████████████████████████████████████████████████████████████████████████████████████████████████████████| 20/20 [00:10<00:00,  1.99it/s]\n"
     ]
    },
    {
     "name": "stdout",
     "output_type": "stream",
     "text": [
      "Running fold 9 out of 10\n"
     ]
    },
    {
     "name": "stderr",
     "output_type": "stream",
     "text": [
      "100%|████████████████████████████████████████████████████████████████████████████████████████████████████████████████████████████████████████████████████████| 20/20 [00:09<00:00,  2.02it/s]\n"
     ]
    },
    {
     "name": "stdout",
     "output_type": "stream",
     "text": [
      "Running fold 10 out of 10\n"
     ]
    },
    {
     "name": "stderr",
     "output_type": "stream",
     "text": [
      "100%|████████████████████████████████████████████████████████████████████████████████████████████████████████████████████████████████████████████████████████| 20/20 [00:09<00:00,  2.05it/s]"
     ]
    },
    {
     "name": "stdout",
     "output_type": "stream",
     "text": [
      "Mixture of Human Experts Accuracy: 0.8110328638497653\n",
      "\n",
      "----------------------------------------\n"
     ]
    },
    {
     "name": "stderr",
     "output_type": "stream",
     "text": [
      "\n"
     ]
    },
    {
     "name": "stdout",
     "output_type": "stream",
     "text": [
      "Shutting down background jobs, please wait a moment...\n",
      "Done!\n",
      "All 0 operations synced, thanks for waiting!\n",
      "Explore the metadata in the Neptune app:\n",
      "https://app.neptune.ai/jonasl/masterarbeit/e/MAS-51/metadata\n"
     ]
    }
   ],
   "source": [
    "metrics = []\n",
    "metrics_print = []\n",
    "\n",
    "import expert as ex\n",
    "import NIH.Dataset as ds\n",
    "\n",
    "#maxLabels = [4, 8, 16, 32, 128]\n",
    "maxLabels = [16]\n",
    "\n",
    "basic_Dataset = ds.BasicDataset(PATH, \"Airspace_Opacity\")\n",
    "\n",
    "for maxL in maxLabels:\n",
    "\n",
    "    best_expert_accuracies = []\n",
    "    avg_expert_accuracies = []\n",
    "    our_approach_accuracies = []\n",
    "    our_approach_coverages = []\n",
    "    jsf_accuracies = []\n",
    "    jsf_coverages = []\n",
    "    full_automation_accuracies = []\n",
    "    moae_accuracies = []\n",
    "    mohe_accuracies = []\n",
    "\n",
    "    for seed in range(1):\n",
    "        print(f'Seed: {seed}')\n",
    "        print(\"-\"*40)\n",
    "        #np.random.seed(seed)\n",
    "        #random.seed(seed)\n",
    "        \n",
    "        set_seed(seed)\n",
    "\n",
    "        nih_dataloader = ds.NIH_K_Fold_Dataloader(\n",
    "            dataset = basic_Dataset,\n",
    "            k = params[\"K\"],\n",
    "            labelerIds = params[\"LABELER_IDS\"],\n",
    "            train_batch_size = params[\"TRAIN_BATCH_SIZE\"],\n",
    "            test_batch_size = params[\"TEST_BATCH_SIZE\"],\n",
    "            seed = seed,\n",
    "            maxLabels = maxL,\n",
    "            preload = True,\n",
    "            prebuild = True,\n",
    "            param = params\n",
    "        )\n",
    "    \n",
    "        expert_fns = []\n",
    "        for labelerId in list(params[\"LABELER_IDS\"]):\n",
    "            #nih_expert = NihExpert(labeler_id=labelerId, target=params[\"TARGET\"], PATH=PATH)\n",
    "            nih_expert = ex.Expert(dataset = basic_Dataset, labeler_id=labelerId)\n",
    "            expert_fns.append(nih_expert.predict)\n",
    "\n",
    "        best_expert_accuracy = nhf.get_accuracy_of_best_expert(seed, nih_dataloader, expert_fns, PATH, maxL, param=params)\n",
    "        best_expert_accuracies.append(best_expert_accuracy)\n",
    "        run[f\"maxLabels_{maxL}/seed_{seed}/best_expert_accuracy\"].append(best_expert_accuracy)\n",
    "    \n",
    "        avg_expert_accuracy = nhf.get_accuracy_of_average_expert(seed, nih_dataloader, expert_fns, PATH, maxL, param=params)\n",
    "        avg_expert_accuracies.append(avg_expert_accuracy)\n",
    "        run[f\"maxLabels_{maxL}/seed_{seed}/avg_expert_accuracy\"].append(avg_expert_accuracy)\n",
    "\n",
    "        our_approach_accuracy, our_approach_coverage = nhf.run_team_performance_optimization(\"Our Approach\", seed, nih_dataloader, expert_fns, PATH, maxL, param=params)\n",
    "        our_approach_accuracies.append(our_approach_accuracy)\n",
    "        our_approach_coverages.append(our_approach_coverage)\n",
    "        run[f\"maxLabels_{maxL}/seed_{seed}/our_approach_accuracy\"].append(our_approach_accuracy)\n",
    "    \n",
    "        jsf_accuracy, jsf_coverage = nhf.run_team_performance_optimization(\"Joint Sparse Framework\", seed, nih_dataloader, expert_fns, PATH, maxL, param=params)\n",
    "        jsf_accuracies.append(jsf_accuracy)\n",
    "        jsf_coverages.append(jsf_coverage)\n",
    "        run[f\"maxLabels_{maxL}/seed_{seed}/jsf_accuracy\"].append(jsf_accuracy)\n",
    "\n",
    "        full_automation_accuracy = nhf.run_full_automation(seed, nih_dataloader, PATH, maxL, param=params)\n",
    "        full_automation_accuracies.append(full_automation_accuracy)\n",
    "        run[f\"maxLabels_{maxL}/seed_{seed}/full_automation_accuracy\"].append(full_automation_accuracy)\n",
    "\n",
    "        moae_accuracy = nhf.run_moae(seed, nih_dataloader, PATH, maxL, param=params)\n",
    "        moae_accuracies.append(moae_accuracy)\n",
    "        run[f\"maxLabels_{maxL}/seed_{seed}/moae_accuracy\"].append(moae_accuracy)\n",
    "\n",
    "        mohe_accuracy = nhf.run_mohe(seed, nih_dataloader, expert_fns, PATH, maxL, param=params)\n",
    "        mohe_accuracies.append(mohe_accuracy)\n",
    "        #run[f\"maxLabels_{maxL}/seed_{seed}/mohe_accuracy\"].append(mohe_accuracy)\n",
    "        print(\"-\"*40)\n",
    "        \n",
    "    mean_best_expert_accuracy = np.mean(best_expert_accuracies)\n",
    "    mean_best_expert_coverage = 0.00\n",
    "\n",
    "    mean_avg_expert_accuracy = np.mean(avg_expert_accuracies)\n",
    "    mean_avg_expert_coverage = 0.00\n",
    "\n",
    "    mean_our_approach_accuracy = np.mean(our_approach_accuracies)\n",
    "    mean_our_approach_coverage = np.mean(our_approach_coverages)\n",
    "\n",
    "    mean_jsf_accuracy = np.mean(jsf_accuracies)\n",
    "    mean_jsf_coverage = np.mean(jsf_coverages)\n",
    "\n",
    "    mean_full_automation_accuracy = np.mean(full_automation_accuracies)\n",
    "    mean_full_automation_coverage = 100.00\n",
    "\n",
    "    mean_moae_accuracy = np.mean(moae_accuracies)\n",
    "    mean_moae_coverage = 100.00\n",
    "\n",
    "    mean_mohe_accuracy = np.mean(mohe_accuracies)\n",
    "    mean_mohe_coverage = 0.00\n",
    "    \n",
    "    metrics_print.append(mean_best_expert_accuracy)\n",
    "    metrics_print.append(mean_best_expert_coverage)\n",
    "    run[f\"maxLabels_{maxL}/mean_best_expert_accuracy\"].append(mean_best_expert_accuracy)\n",
    "    \n",
    "    metrics_print.append(mean_avg_expert_accuracy)\n",
    "    metrics_print.append(mean_avg_expert_coverage)\n",
    "    run[f\"maxLabels_{maxL}/mean_avg_expert_accuracy\"].append(mean_avg_expert_accuracy)\n",
    "    \n",
    "    metrics_print.append(mean_our_approach_accuracy)\n",
    "    metrics_print.append(mean_our_approach_coverage)\n",
    "    run[f\"maxLabels_{maxL}/mean_our_approach_accuracy\"].append(mean_our_approach_accuracy)\n",
    "    \n",
    "    metrics_print.append(mean_jsf_accuracy)\n",
    "    metrics_print.append(mean_jsf_coverage)\n",
    "    run[f\"maxLabels_{maxL}/mean_jsf_accuracy\"].append(mean_jsf_accuracy)\n",
    "    \n",
    "    metrics_print.append(mean_full_automation_accuracy)\n",
    "    metrics_print.append(mean_full_automation_coverage)\n",
    "    run[f\"maxLabels_{maxL}/mean_full_automation_accuracy\"].append(mean_full_automation_accuracy)\n",
    "    \n",
    "    metrics_print.append(mean_moae_accuracy)\n",
    "    metrics_print.append(mean_moae_coverage)\n",
    "    run[f\"maxLabels_{maxL}/mean_moae_accuracy\"].append(mean_moae_accuracy)\n",
    "    \n",
    "    metrics_print.append(mean_mohe_accuracy)\n",
    "    metrics_print.append(mean_mohe_coverage)\n",
    "    run[f\"maxLabels_{maxL}/mean_mohe_accuracy\"].append(mean_mohe_accuracy)\n",
    "    \n",
    "    \n",
    "    metrics.append(best_expert_accuracies)\n",
    "    metrics.append(avg_expert_accuracies)\n",
    "    metrics.append(our_approach_accuracies)\n",
    "    metrics.append(our_approach_coverages)\n",
    "    metrics.append(jsf_accuracies)\n",
    "    metrics.append(jsf_coverages)\n",
    "    metrics.append(full_automation_accuracies)\n",
    "    metrics.append(moae_accuracies)\n",
    "    metrics.append(mohe_accuracies)"
   ]
  },
  {
   "cell_type": "code",
   "execution_count": 14,
   "id": "20378d5d-cf33-4084-a4ed-e5111cd74486",
   "metadata": {},
   "outputs": [],
   "source": [
    "met_save = metrics"
   ]
  },
  {
   "cell_type": "code",
   "execution_count": 39,
   "id": "03c84a54-0d68-47cf-a8ab-08a9c10f31b5",
   "metadata": {},
   "outputs": [],
   "source": [
    "met = []\n",
    "for j in [0, 2, 4, 6, 8, 10, 12]:\n",
    "    temp = []\n",
    "    for i in [0, 14, 28, 42]:\n",
    "        temp.append(metrics_print[i + j])\n",
    "    met.append(temp)\n",
    "met\n",
    "for elm in met[0]:\n",
    "    run[\"metrics/mean_best_expert_accuracy\"].append(elm)\n",
    "for elm in met[1]:\n",
    "    run[\"metrics/mean_avg_expert_accuracy\"].append(elm)\n",
    "for elm in met[2]:\n",
    "    run[\"metrics/mean_our_approach_accuracy\"].append(elm)\n",
    "for elm in met[3]:\n",
    "    run[\"metrics/mean_jsf_accuracy\"].append(elm)\n",
    "for elm in met[4]:\n",
    "    run[\"metrics/mean_full_automation_accuracy\"].append(elm)\n",
    "for elm in met[5]:\n",
    "    run[\"metrics/mean_moae_accuracy\"].append(elm)\n",
    "for elm in met[6]:\n",
    "    run[\"metrics/mean_mohe_accuracy\"].append(elm)"
   ]
  },
  {
   "cell_type": "code",
   "execution_count": null,
   "id": "7303944f-6866-45bf-9b1f-e34a11b94f5a",
   "metadata": {},
   "outputs": [],
   "source": [
    "run[f\"maxLabels_{maxL}/mean_jsf_accuracy\"].append(mean_jsf_accuracy)\n",
    "run[]\n",
    "\n",
    "for maxLabel in range(5):\n",
    "    for seed in range(3):\n",
    "        run[f\"metrics\""
   ]
  },
  {
   "cell_type": "code",
   "execution_count": 29,
   "id": "6f87c788-f955-4632-bba2-f7f094f48485",
   "metadata": {},
   "outputs": [
    {
     "data": {
      "text/plain": [
       "[[0.9131455399061033, 0.9131455399061033, 0.9131455399061033],\n",
       " [0.8509389671361502, 0.8591549295774648, 0.8474178403755869],\n",
       " [0.744131455399061, 0.7922535211267606, 0.7664319248826291],\n",
       " [0.7382629107981221, 0.687793427230047, 0.6784037558685446],\n",
       " [0.539906103286385, 0.4847417840375587, 0.49178403755868544],\n",
       " [0.49295774647887325, 0.4894366197183099, 0.4835680751173709],\n",
       " [0.8392018779342723, 0.8532863849765259, 0.8509389671361502],\n",
       " [0.9131455399061033, 0.9131455399061033, 0.9131455399061033],\n",
       " [0.8591549295774648, 0.8356807511737089, 0.8685446009389671],\n",
       " [0.7922535211267606, 0.7464788732394366, 0.7382629107981221],\n",
       " [0.6948356807511737, 0.8227699530516432, 0.7147887323943662],\n",
       " [0.505868544600939, 0.5223004694835681, 0.49178403755868544],\n",
       " [0.5657276995305164, 0.4964788732394366, 0.5011737089201878],\n",
       " [0.8321596244131455, 0.8415492957746479, 0.8485915492957746],\n",
       " [0.9131455399061033, 0.9131455399061033, 0.9131455399061033],\n",
       " [0.8615023474178404, 0.8403755868544601, 0.8591549295774648],\n",
       " [0.7030516431924883, 0.7981220657276995, 0.6983568075117371],\n",
       " [0.7582159624413145, 0.7370892018779343, 0.6889671361502347],\n",
       " [0.4765258215962441, 0.5269953051643192, 0.505868544600939],\n",
       " [0.49413145539906106, 0.5046948356807511, 0.5199530516431925],\n",
       " [0.8286384976525821, 0.8227699530516432, 0.8403755868544601],\n",
       " [0.9131455399061033, 0.9131455399061033, 0.9131455399061033],\n",
       " [0.8427230046948356, 0.8661971830985915, 0.8615023474178404],\n",
       " [0.7946009389671361, 0.7183098591549296, 0.6842723004694836],\n",
       " [0.8086854460093896, 0.8110328638497653, 0.7523474178403756],\n",
       " [0.4953051643192488, 0.43779342723004694, 0.4823943661971831],\n",
       " [0.4471830985915493, 0.44366197183098594, 0.4953051643192488],\n",
       " [0.8227699530516432, 0.8309859154929577, 0.823943661971831]]"
      ]
     },
     "execution_count": 29,
     "metadata": {},
     "output_type": "execute_result"
    }
   ],
   "source": [
    "import itertools\n",
    "ks = [i + j for i, j in itertools.product([0, 9, 18, 27], [0, 1, 2, 4, 6, 7, 8])]\n",
    "met = []\n",
    "for i in ks:\n",
    "    met.append(metrics[i])\n",
    "met"
   ]
  },
  {
   "cell_type": "code",
   "execution_count": 13,
   "id": "675c01b6-92b5-4449-9278-84e3059ed708",
   "metadata": {},
   "outputs": [
    {
     "ename": "IndexError",
     "evalue": "list index out of range",
     "output_type": "error",
     "traceback": [
      "\u001b[0;31m---------------------------------------------------------------------------\u001b[0m",
      "\u001b[0;31mIndexError\u001b[0m                                Traceback (most recent call last)",
      "Cell \u001b[0;32mIn[13], line 9\u001b[0m\n\u001b[1;32m      6\u001b[0m mean_avg_expert_accuracy \u001b[38;5;241m=\u001b[39m met[\u001b[38;5;241m2\u001b[39m]\n\u001b[1;32m      7\u001b[0m mean_avg_expert_coverage \u001b[38;5;241m=\u001b[39m \u001b[38;5;241m0.00\u001b[39m\n\u001b[0;32m----> 9\u001b[0m mean_our_approach_accuracy \u001b[38;5;241m=\u001b[39m \u001b[43mmet\u001b[49m\u001b[43m[\u001b[49m\u001b[38;5;241;43m4\u001b[39;49m\u001b[43m]\u001b[49m\n\u001b[1;32m     10\u001b[0m mean_our_approach_coverage \u001b[38;5;241m=\u001b[39m met[\u001b[38;5;241m5\u001b[39m]\n\u001b[1;32m     12\u001b[0m mean_jsf_accuracy \u001b[38;5;241m=\u001b[39m met[\u001b[38;5;241m6\u001b[39m]\n",
      "\u001b[0;31mIndexError\u001b[0m: list index out of range"
     ]
    }
   ],
   "source": [
    "for met in metrics:\n",
    "    \n",
    "    mean_best_expert_accuracy = met[0]\n",
    "    mean_best_expert_coverage = 0.00\n",
    "\n",
    "    mean_avg_expert_accuracy = met[2]\n",
    "    mean_avg_expert_coverage = 0.00\n",
    "\n",
    "    mean_our_approach_accuracy = met[4]\n",
    "    mean_our_approach_coverage = met[5]\n",
    "\n",
    "    mean_jsf_accuracy = met[6]\n",
    "    mean_jsf_coverage = met[7]\n",
    "\n",
    "    mean_full_automation_accuracy = met[8]\n",
    "    mean_full_automation_coverage = 100.00\n",
    "\n",
    "    mean_moae_accuracy = met[10]\n",
    "    mean_moae_coverage = 100.00\n",
    "\n",
    "    mean_mohe_accuracy = met[12]\n",
    "    mean_mohe_coverage = 0.00\n",
    "    \n",
    "    print(tabulate([['Our Approach', mean_our_approach_accuracy, mean_our_approach_coverage],\n",
    "                ['JSF', mean_jsf_accuracy, mean_jsf_coverage],\n",
    "                ['--------', '--------', '--------'],\n",
    "                ['Full Automation', mean_full_automation_accuracy, mean_full_automation_coverage],\n",
    "                ['MOAE', mean_moae_accuracy, mean_moae_coverage],\n",
    "                ['MOHE', mean_mohe_accuracy, mean_mohe_coverage],\n",
    "                ['Random Expert', mean_avg_expert_accuracy, mean_avg_expert_coverage],\n",
    "                ['Best Expert', mean_best_expert_accuracy, mean_best_expert_coverage]], \n",
    "               headers=['Method', 'Accuracy', 'Coverage']))"
   ]
  },
  {
   "cell_type": "code",
   "execution_count": null,
   "id": "25f510d5-a70c-4656-bfed-fa70723d94d4",
   "metadata": {},
   "outputs": [],
   "source": [
    "run.stop()"
   ]
  },
  {
   "cell_type": "code",
   "execution_count": null,
   "id": "f06ba071-74bd-4452-a2c4-212fc2f2e0d9",
   "metadata": {},
   "outputs": [],
   "source": []
  },
  {
   "cell_type": "code",
   "execution_count": null,
   "id": "5cad4f94-d570-4cb4-a199-db4729f8be34",
   "metadata": {},
   "outputs": [],
   "source": []
  },
  {
   "cell_type": "code",
   "execution_count": 8,
   "id": "5fbc54bc-624c-43cf-9ffe-abbb5a1b3943",
   "metadata": {},
   "outputs": [],
   "source": [
    "class NihAverageExpert:\n",
    "    def __init__(self, expert_fns=[]):\n",
    "        self.expert_fns = expert_fns\n",
    "        self.num_experts = len(self.expert_fns)\n",
    "\n",
    "    def predict(self, filenames):\n",
    "        all_experts_predictions = [expert_fn(filenames) for expert_fn in self.expert_fns]\n",
    "        predictions = [None] * len(filenames)\n",
    "\n",
    "        for idx, expert_predictions in enumerate(all_experts_predictions):\n",
    "            predictions[idx::self.num_experts] = expert_predictions[idx::self.num_experts]\n",
    "\n",
    "        return predictions"
   ]
  }
 ],
 "metadata": {
  "kernelspec": {
   "display_name": "joli-env_kernel",
   "language": "python",
   "name": "joli-env_kernel"
  },
  "language_info": {
   "codemirror_mode": {
    "name": "ipython",
    "version": 3
   },
   "file_extension": ".py",
   "mimetype": "text/x-python",
   "name": "python",
   "nbconvert_exporter": "python",
   "pygments_lexer": "ipython3",
   "version": "3.9.16"
  }
 },
 "nbformat": 4,
 "nbformat_minor": 5
}
